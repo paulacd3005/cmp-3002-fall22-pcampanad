{
 "cells": [
  {
   "cell_type": "markdown",
   "source": [
    "# Homework 3\n",
    "Paula Campaña Donoso (00215572)"
   ],
   "metadata": {
    "collapsed": false
   }
  },
  {
   "cell_type": "code",
   "execution_count": 178,
   "outputs": [],
   "source": [
    "import time\n",
    "import pandas as pd"
   ],
   "metadata": {
    "collapsed": false
   }
  },
  {
   "cell_type": "markdown",
   "source": [
    "### 1. Merge two sorted lists\n",
    "\n",
    "1. Assume you have two sorted linked lists. Use **recursion** to merge these lists and return a new sorted list.\n",
    "\n",
    "For example:\n",
    "\n",
    "- Input:\n",
    "\n",
    "> L1 = 1 -> 3 -> 5 -> 7 -> null\n",
    "\n",
    "> L2 = 2 -> 4 -> 6 -> null\n",
    "\n",
    "- Output:\n",
    "\n",
    "> L4 = 1 -> 2 -> 3-> 4 -> 5 -> 6 -> 7 -> null\n",
    "\n",
    "2. Calculate complexity"
   ],
   "metadata": {
    "collapsed": false
   }
  },
  {
   "cell_type": "code",
   "execution_count": 179,
   "outputs": [],
   "source": [
    "#1. Usando recursion\n",
    "class Node:\n",
    "    def __init__(self, val):\n",
    "        self.val = val\n",
    "        self.next_node = None\n",
    "    def set_next_node(self, next_node):\n",
    "        self.next_node = next_node\n",
    "class Singly_linked_list:\n",
    "    \"\"\"\n",
    "    Implementation of a singly linked list\n",
    "    \"\"\"\n",
    "    def __init__(self, head_node=None):\n",
    "        self.head_node = head_node\n",
    "\n",
    "    def list_traversed(self):\n",
    "        node = self.head_node\n",
    "        while node:\n",
    "            print(node.val)\n",
    "            node = node.next_node\n",
    "\n",
    "    def insert_head(self, new_node):\n",
    "        # insert to the head\n",
    "        # A -> B -> null\n",
    "        # R -> A -> B -> null\n",
    "        new_node.set_next_node(self.head_node)\n",
    "        self.head_node = new_node\n",
    "\n",
    "    def insert_tail(self, new_node):\n",
    "        # insert to the tail\n",
    "        # A -> B -> null\n",
    "        # A -> B -> R -> null\n",
    "        node = self.head_node\n",
    "        prev = None\n",
    "        while node:\n",
    "            prev = node\n",
    "            node = node.next_node\n",
    "        prev.set_next_node(new_node)\n",
    "\n",
    "    def insert_middle(self, new_node, value):\n",
    "        # insert in the middle\n",
    "        # A -> B -> C -> null\n",
    "        # A -> B -> R -> C -> null\n",
    "        node = self.head_node\n",
    "        while node.val != value:\n",
    "            node = node.next_node\n",
    "        if node:\n",
    "            new_node.set_next_node(node.next_node)\n",
    "            node.set_next_node(new_node)\n",
    "        else:\n",
    "            self.insert_tail(new_node)"
   ],
   "metadata": {
    "collapsed": false
   }
  },
  {
   "cell_type": "code",
   "execution_count": 180,
   "outputs": [],
   "source": [
    "#Defino funcion merge para poder ir comparando los valores entre las listas e ir juntando los valores de ambas listas en orden comparando cual es mayor y menor y agregando al siguiente espacio\n",
    "def merge(Lista1, Lista2):\n",
    "    if (Lista1 == None):\n",
    "        return Lista2\n",
    "    if (Lista2 == None):\n",
    "        return Lista1\n",
    "    if (Lista1.val < Lista2.val):\n",
    "        Lista1.next_node = merge(Lista1.next_node, Lista2)\n",
    "        return Lista1\n",
    "    else:\n",
    "        Lista2.next_node = merge(Lista1, Lista2.next_node)\n",
    "        return Lista2"
   ],
   "metadata": {
    "collapsed": false
   }
  },
  {
   "cell_type": "code",
   "execution_count": 181,
   "outputs": [
    {
     "name": "stdout",
     "output_type": "stream",
     "text": [
      "1\n",
      "3\n",
      "5\n",
      "7\n",
      "2\n",
      "4\n",
      "6\n",
      "8\n"
     ]
    }
   ],
   "source": [
    "#Uso el ejemplo de valores propuestos en el problema\n",
    "lista1 = Singly_linked_list(Node(1))\n",
    "lista1.insert_tail(Node(3))\n",
    "lista1.insert_tail(Node(5))\n",
    "lista1.insert_tail(Node(7))\n",
    "lista1.list_traversed()\n",
    "\n",
    "lista2 = Singly_linked_list(Node(2))\n",
    "lista2.insert_tail(Node(4))\n",
    "lista2.insert_tail(Node(6))\n",
    "lista2.insert_tail(Node(8))\n",
    "lista2.list_traversed()"
   ],
   "metadata": {
    "collapsed": false
   }
  },
  {
   "cell_type": "code",
   "execution_count": 182,
   "outputs": [],
   "source": [
    "union = merge(lista1.head_node,lista2.head_node)"
   ],
   "metadata": {
    "collapsed": false
   }
  },
  {
   "cell_type": "code",
   "execution_count": 183,
   "outputs": [
    {
     "name": "stdout",
     "output_type": "stream",
     "text": [
      "1\n",
      "2\n",
      "3\n",
      "4\n",
      "5\n",
      "6\n",
      "7\n",
      "8\n"
     ]
    }
   ],
   "source": [
    "union = Singly_linked_list(union)\n",
    "union.list_traversed()"
   ],
   "metadata": {
    "collapsed": false
   }
  },
  {
   "cell_type": "markdown",
   "source": [
    "2. La complejidad de este algoritmo se lo puede establecer como O(n), esto se debe a que en la clase Singly_linked_list estoy usando funciones que me permitan incluir datos a un arreglo ya sea el principio, mitad o final y esto depende de la cantidad de datos que hay en este caso n. Luego se tiene la funcion merge, aqui va comparando dato por dato para ir viendo como juntar ambos arreglos, esto lo que indica es que al usar el lazo if e ir comparando todos los numeros entre si, esto se vuelve una complejidad de n ya que depende de la cantidad de datos en cada lista para irles juntando en una lista final, por lo que se tiene al final una complejidad de O(n)."
   ],
   "metadata": {
    "collapsed": false
   }
  },
  {
   "cell_type": "markdown",
   "source": [
    "### 2. Implement quick sort\n",
    "\n",
    "1. Use the divide and conquer technique to implement the quick sort algorithm studied in class.\n",
    "2. Use a couple of parragraphs to explain the steps of divide and conquer:\n",
    "    - how/where do you divide?\n",
    "    - where/what do you conquer?\n",
    "    - how/what do you combine?\n",
    "3. Analyze complexity"
   ],
   "metadata": {
    "collapsed": false
   }
  },
  {
   "cell_type": "code",
   "execution_count": 220,
   "outputs": [],
   "source": [
    "#Funcion recursiva que me permite tener un valor de pivot e ir comparando y arreglando cada valor para tener un nuevo arreglo\n",
    "def division(array, menor, mayor):\n",
    "    pivot = array[mayor]\n",
    "    i = menor - 1\n",
    "    for k in range(menor, mayor):\n",
    "        if array[k] <= pivot:\n",
    "            i = i + 1\n",
    "            (array[i], array[k]) = (array[k], array[i])\n",
    "    (array[i + 1], array[mayor]) = (array[mayor], array[i + 1])\n",
    "    return i + 1\n",
    "#Funcion que me permite ir juntando los valores en un arreglo para que este ordenado\n",
    "def quick_sort(array, menor, mayor):\n",
    "    if menor < mayor:\n",
    "        p = division(array, menor, mayor)\n",
    "        quick_sort(array, menor, p - 1)\n",
    "        quick_sort(array, p + 1, mayor)"
   ],
   "metadata": {
    "collapsed": false
   }
  },
  {
   "cell_type": "code",
   "execution_count": 221,
   "outputs": [
    {
     "name": "stdout",
     "output_type": "stream",
     "text": [
      "[2, 3, 5, 8, 9]\n"
     ]
    }
   ],
   "source": [
    "array = [5,3,9,2,8]\n",
    "quick_sort(array,0,len(array) - 1)\n",
    "print(array)"
   ],
   "metadata": {
    "collapsed": false
   }
  },
  {
   "cell_type": "markdown",
   "source": [
    "2. Para esta funcion de division lo que hace es seleccionar mi valor final como pivot, esto me permite dividir la funcion del pivot con el resto de valores para luego poderles ir comparando. Una vez establecido este pivto lo que hace es ir comparando y aqui se aplica lo que se llama conquer, lo que quiero decir es que el valor del pivot va comparando su valor con los valores a su izquierda de manera recursiva, ya que compara cual de los dos es mayor si el pivot o el valor a comparar y luego hace un cambio de posicion entre la posicion del valor en el arreglo i con el arreglo en k. Una vez hecho este proceso para todos los valores al final se hace el proceso de combinar, aqui lo que se hace es juntar todos los valores en un arreglo y luego se pide que imprima los valores de ese arreglo, mostrando asi un arreglo de valores en orden."
   ],
   "metadata": {
    "collapsed": false
   }
  },
  {
   "cell_type": "markdown",
   "source": [
    "3. La complejidad en este algoritmo se lo puede establecer como O(nlog(n)), esto se debe a la composicion de ambas funciones, division y quick_sort, en el algoritmo. Si vemos la primera funcion la cual es la de la division, esto es una funcion recursiva, lo que significa que se va repitiendo el mismo proceso para cada valor, aqui se divide, se hace conquer y por ultimo se combina, ya que este proceso se hace para cada valor del arreglo y esto se va dividiendo para cada valor del arreglo entonces se tiene un runtime tipo logaritmico, lo que muestra que en esa funcion es una complejida de O(log(n)). Luego se tiene la siguiente funcion la cual es quick_sort, aqui lo que se hace es ir juntando todos los valores ya comparados en un arreglo final, por lo que esto tiene un runtime de O(n), ya que se va uniendo la cantidad de valores que se tenga es decir n valores, justificando asi que la complejidad es de O(n). Una vez que se tiene ambas complejidades al revisar el algoritmo final se puede ver que se tiene una complejidad final de O(nlog(n))."
   ],
   "metadata": {
    "collapsed": false
   }
  },
  {
   "cell_type": "markdown",
   "source": [
    "### 3. Compare quick sort and merge sort\n",
    "\n",
    "1. Generate 1000 random permutations of arrays of integers between 1 to 10000.\n",
    "2. Execute merge sort and quick sort for each of the permutations\n",
    "3. Calculate the execution time of these runs, and compare them using the statistics of the measured executed time.\n",
    "4. Explain the differences. Which algorithm is better? When would you use each?"
   ],
   "metadata": {
    "collapsed": false
   }
  },
  {
   "cell_type": "code",
   "execution_count": 186,
   "outputs": [],
   "source": [
    "#Utilizando ayuda de internet en la pagina de geek for geeks utilizo la funcion decoradora de tiempo para poder calcular el tiempo de ejecucion, y luego llamo a mi funcion @timer_func para funcion de sum1 y sum2\n",
    "from time import time\n",
    "def runtime(func):\n",
    "    def wrap_func(*args, **kwargs):\n",
    "        t1 = time()*10**12\n",
    "        t2 = time()*10**12\n",
    "        return t2-t1\n",
    "    return wrap_func"
   ],
   "metadata": {
    "collapsed": false
   }
  },
  {
   "cell_type": "code",
   "execution_count": 187,
   "outputs": [],
   "source": [
    "#Funcion que se utiliza de merge_sort fue dada en clase\n",
    "@runtime\n",
    "def merge_sort(nums):\n",
    "    if len(nums) <= 1:\n",
    "        return nums\n",
    "    pivot = int(len(nums) / 2)\n",
    "    left = merge_sort(nums[0:pivot])\n",
    "    right = merge_sort(nums[pivot:])\n",
    "    return merge(left, right)\n",
    "\n",
    "\n",
    "def merge(left, right):\n",
    "    left_pointer = 0\n",
    "    right_pointer = 0\n",
    "    sorted_list = []\n",
    "    while left_pointer < len(left) and right_pointer < len(right):\n",
    "        if left[left_pointer] < right[right_pointer]:\n",
    "            sorted_list.append(left[left_pointer])\n",
    "            left_pointer += 1\n",
    "        else:\n",
    "            sorted_list.append(right[right_pointer])\n",
    "            right_pointer += 1\n",
    "\n",
    "    sorted_list.extend(left[left_pointer:])\n",
    "    sorted_list.extend(right[right_pointer:])\n",
    "\n",
    "    return sorted_list"
   ],
   "metadata": {
    "collapsed": false
   }
  },
  {
   "cell_type": "code",
   "execution_count": 188,
   "outputs": [],
   "source": [
    "#Se genera permutaciones aleatorias con la funcion random\n",
    "import random\n",
    "import numpy as np\n",
    "n = []\n",
    "array = []\n",
    "array_runtime = []\n",
    "for f in range(1000):\n",
    "    n = np.random.permutation(10000)\n",
    "    array.append(n)"
   ],
   "metadata": {
    "collapsed": false
   }
  },
  {
   "cell_type": "code",
   "execution_count": 189,
   "outputs": [],
   "source": [
    "for i in range(1000):\n",
    "    array_runtime.append(merge_sort(array[i]))"
   ],
   "metadata": {
    "collapsed": false
   }
  },
  {
   "cell_type": "code",
   "execution_count": 190,
   "outputs": [],
   "source": [
    "#Se utiliza la misma funcion de quick_sort implementada en el ejercicio anterior\n",
    "def division(array, menor, mayor):\n",
    "    pivot = array[mayor]\n",
    "    i = menor - 1\n",
    "    for k in range(menor, mayor):\n",
    "        if array[k] <= pivot:\n",
    "            i = i + 1\n",
    "            (array[i], array[k]) = (array[k], array[i])\n",
    "    (array[i + 1], array[mayor]) = (array[mayor], array[i + 1])\n",
    "    return i + 1\n",
    "\n",
    "@runtime\n",
    "def quick_sort(array, menor, mayor):\n",
    "    if menor < mayor:\n",
    "        p = division(array, menor, mayor)\n",
    "        quick_sort(array, menor, p - 1)\n",
    "        quick_sort(array, p + 1, mayor)"
   ],
   "metadata": {
    "collapsed": false
   }
  },
  {
   "cell_type": "code",
   "execution_count": 191,
   "outputs": [],
   "source": [
    "array_runtime2 = []\n",
    "for i in range(1000):\n",
    "    array_runtime2.append(quick_sort(array[i]))"
   ],
   "metadata": {
    "collapsed": false
   }
  },
  {
   "cell_type": "code",
   "execution_count": 192,
   "outputs": [
    {
     "data": {
      "text/plain": "     Runtime de merge_sort  Runtime de quick_sort\n0                1048576.0               786432.0\n1                      0.0                    0.0\n2                      0.0                    0.0\n3                1310720.0                    0.0\n4                      0.0                    0.0\n..                     ...                    ...\n995                    0.0                    0.0\n996                    0.0                    0.0\n997                    0.0                    0.0\n998                    0.0                    0.0\n999                    0.0                    0.0\n\n[1000 rows x 2 columns]",
      "text/html": "<div>\n<style scoped>\n    .dataframe tbody tr th:only-of-type {\n        vertical-align: middle;\n    }\n\n    .dataframe tbody tr th {\n        vertical-align: top;\n    }\n\n    .dataframe thead th {\n        text-align: right;\n    }\n</style>\n<table border=\"1\" class=\"dataframe\">\n  <thead>\n    <tr style=\"text-align: right;\">\n      <th></th>\n      <th>Runtime de merge_sort</th>\n      <th>Runtime de quick_sort</th>\n    </tr>\n  </thead>\n  <tbody>\n    <tr>\n      <th>0</th>\n      <td>1048576.0</td>\n      <td>786432.0</td>\n    </tr>\n    <tr>\n      <th>1</th>\n      <td>0.0</td>\n      <td>0.0</td>\n    </tr>\n    <tr>\n      <th>2</th>\n      <td>0.0</td>\n      <td>0.0</td>\n    </tr>\n    <tr>\n      <th>3</th>\n      <td>1310720.0</td>\n      <td>0.0</td>\n    </tr>\n    <tr>\n      <th>4</th>\n      <td>0.0</td>\n      <td>0.0</td>\n    </tr>\n    <tr>\n      <th>...</th>\n      <td>...</td>\n      <td>...</td>\n    </tr>\n    <tr>\n      <th>995</th>\n      <td>0.0</td>\n      <td>0.0</td>\n    </tr>\n    <tr>\n      <th>996</th>\n      <td>0.0</td>\n      <td>0.0</td>\n    </tr>\n    <tr>\n      <th>997</th>\n      <td>0.0</td>\n      <td>0.0</td>\n    </tr>\n    <tr>\n      <th>998</th>\n      <td>0.0</td>\n      <td>0.0</td>\n    </tr>\n    <tr>\n      <th>999</th>\n      <td>0.0</td>\n      <td>0.0</td>\n    </tr>\n  </tbody>\n</table>\n<p>1000 rows × 2 columns</p>\n</div>"
     },
     "execution_count": 192,
     "metadata": {},
     "output_type": "execute_result"
    }
   ],
   "source": [
    "df1 = pd.DataFrame(zip(array_runtime,array_runtime2))\n",
    "df1.columns = [ 'Runtime de merge_sort','Runtime de quick_sort']\n",
    "df1"
   ],
   "metadata": {
    "collapsed": false
   }
  },
  {
   "cell_type": "code",
   "execution_count": 193,
   "outputs": [
    {
     "data": {
      "text/plain": "<AxesSubplot: >"
     },
     "execution_count": 193,
     "metadata": {},
     "output_type": "execute_result"
    },
    {
     "data": {
      "text/plain": "<Figure size 640x480 with 1 Axes>",
      "image/png": "[encoded data removed]"
     },
     "metadata": {},
     "output_type": "display_data"
    }
   ],
   "source": [
    "df1.plot()"
   ],
   "metadata": {
    "collapsed": false
   }
  },
  {
   "cell_type": "markdown",
   "source": [
    "4. Ambas funciones, merge sort y quick_sort permiten la recursividad en el momento de dividir, conquer y combinar, ademas ambas tienen una misma complejidad la cual es O(nlog(n)), esto claramente se puede ver en la grafica que ,muestra la relacion entre ambas funciones mostrando que en promedio son muy parecidas a excepcion de algunos picos que se muestran con respecto a quick_sort. Por un lado merge sort divide al arreglo en la mitad y luego vuelve a dividir en la mitad y va comparando datos, mientras que con quick_sort se tiene un pivot en uno de los limites del arreglo y va comparando y ordenando asi cada valor. Por esa razon se puede decir que ambas son eficiencientes y que ambos se pueden usar para casos similares, ya que la forma de dividir es diferente pero no impide que se llegue al mismo resultado. Es posible que se pueda decir que merge sort sea un poco mas rapido por lo que va dividiendo en secciones mas pequeñas y al final junta todo mientras que quick_sort compara uno por uno y va ordenando, sin embargo ambas tienen la misma complejidad lo que me muestra que ambas tienen una eficiencia demasiado similar y ambas se pueden usar."
   ],
   "metadata": {
    "collapsed": false
   }
  },
  {
   "cell_type": "markdown",
   "source": [
    "### 4. Implement factorials with recursion\n",
    "\n",
    "Recall that a factorial number is defined as:\n",
    "\n",
    "$k! = k \\times (k-1) \\times (k-2) \\times ... \\times 2 \\times 1$\n",
    "\n",
    "For example: $3! = 3 \\times 2 \\times 1 = 6$\n",
    "\n",
    "1. Use recursion to implement the factorial\n",
    "2. Run your code for numbers between 1 and 10000\n",
    "3. Calculate the execution time and plot it.\n",
    "4. What's the complexity?\n",
    "5. Implement memoization to improve the performance of your code\n",
    "6. Measure the runtime when you calculate the factorial for numbers between 1 and 10000.\n",
    "7. What's the complexity of your code using memoization?\n",
    "8. How does the first implementation and the one with memoization compare?\n"
   ],
   "metadata": {
    "collapsed": false
   }
  },
  {
   "cell_type": "code",
   "execution_count": 194,
   "outputs": [],
   "source": [
    "#Se define la funcion factorial para calcular el factorial del numero ingresado\n",
    "def factorial(n):\n",
    "    return 1 if (n == 1 or n == 0) else n * factorial(n - 1)"
   ],
   "metadata": {
    "collapsed": false
   }
  },
  {
   "cell_type": "code",
   "execution_count": 195,
   "outputs": [
    {
     "data": {
      "text/plain": "3628800"
     },
     "execution_count": 195,
     "metadata": {},
     "output_type": "execute_result"
    }
   ],
   "source": [
    "factorial(10)"
   ],
   "metadata": {
    "collapsed": false
   }
  },
  {
   "cell_type": "code",
   "execution_count": 210,
   "outputs": [],
   "source": [
    "#Se calcula el tiempo que le toma correr cada valor con la funcion factorial\n",
    "@runtime\n",
    "def factorial(n):\n",
    "    return 1 if (n == 1 or n == 0) else n * factorial(n - 1)\n",
    "tiempo1 = []\n",
    "for i in range (0, 5000):\n",
    "    resultado = factorial(i)\n",
    "    tiempo1.append(resultado)"
   ],
   "metadata": {
    "collapsed": false
   }
  },
  {
   "cell_type": "code",
   "execution_count": 211,
   "outputs": [
    {
     "data": {
      "text/plain": "[1048576.0,\n 0.0,\n 0.0,\n 0.0,\n 0.0,\n 1310720.0,\n 0.0,\n 0.0,\n 0.0,\n 0.0,\n 0.0,\n 0.0,\n 0.0,\n 0.0,\n 1310720.0,\n 0.0,\n 0.0,\n 0.0,\n 0.0,\n 0.0,\n 1048576.0,\n 0.0,\n 0.0,\n 0.0,\n 1048576.0,\n 0.0,\n 0.0,\n 1048576.0,\n 786432.0,\n 0.0,\n 0.0,\n 0.0,\n 0.0,\n 1048576.0,\n 0.0,\n 0.0,\n 0.0,\n 524288.0,\n 1310720.0,\n 0.0,\n 0.0,\n 1310720.0,\n 0.0,\n 0.0,\n 0.0,\n 0.0,\n 1048576.0,\n 0.0,\n 0.0,\n 0.0,\n 0.0,\n 0.0,\n 0.0,\n 0.0,\n 0.0,\n 0.0,\n 0.0,\n 0.0,\n 0.0,\n 0.0,\n 0.0,\n 0.0,\n 0.0,\n 0.0,\n 1048576.0,\n 2097152.0,\n 0.0,\n 0.0,\n 0.0,\n 0.0,\n 0.0,\n 0.0,\n 786432.0,\n 0.0,\n 0.0,\n 0.0,\n 0.0,\n 0.0,\n 0.0,\n 1048576.0,\n 786432.0,\n 1310720.0,\n 0.0,\n 0.0,\n 0.0,\n 0.0,\n 0.0,\n 0.0,\n 0.0,\n 1048576.0,\n 0.0,\n 0.0,\n 0.0,\n 0.0,\n 0.0,\n 0.0,\n 0.0,\n 0.0,\n 0.0,\n 0.0,\n 1048576.0,\n 1048576.0,\n 1048576.0,\n 1048576.0,\n 0.0,\n 0.0,\n 0.0,\n 0.0,\n 0.0,\n 0.0,\n 0.0,\n 1048576.0,\n 786432.0,\n 0.0,\n 0.0,\n 0.0,\n 0.0,\n 0.0,\n 0.0,\n 0.0,\n 0.0,\n 0.0,\n 0.0,\n 0.0,\n 0.0,\n 0.0,\n 0.0,\n 0.0,\n 0.0,\n 0.0,\n 0.0,\n 0.0,\n 0.0,\n 1048576.0,\n 1048576.0,\n 1048576.0,\n 786432.0,\n 1310720.0,\n 786432.0,\n 1048576.0,\n 1310720.0,\n 0.0,\n 0.0,\n 0.0,\n 0.0,\n 0.0,\n 786432.0,\n 1310720.0,\n 1048576.0,\n 0.0,\n 0.0,\n 0.0,\n 0.0,\n 786432.0,\n 1048576.0,\n 1048576.0,\n 0.0,\n 0.0,\n 0.0,\n 0.0,\n 0.0,\n 0.0,\n 0.0,\n 0.0,\n 0.0,\n 0.0,\n 0.0,\n 0.0,\n 0.0,\n 0.0,\n 0.0,\n 0.0,\n 0.0,\n 0.0,\n 0.0,\n 0.0,\n 0.0,\n 0.0,\n 0.0,\n 0.0,\n 0.0,\n 0.0,\n 0.0,\n 0.0,\n 0.0,\n 0.0,\n 0.0,\n 0.0,\n 0.0,\n 0.0,\n 0.0,\n 0.0,\n 0.0,\n 0.0,\n 0.0,\n 0.0,\n 0.0,\n 0.0,\n 0.0,\n 0.0,\n 0.0,\n 0.0,\n 1048576.0,\n 786432.0,\n 0.0,\n 0.0,\n 0.0,\n 0.0,\n 0.0,\n 0.0,\n 0.0,\n 0.0,\n 0.0,\n 0.0,\n 0.0,\n 0.0,\n 1048576.0,\n 0.0,\n 0.0,\n 0.0,\n 0.0,\n 1310720.0,\n 0.0,\n 0.0,\n 0.0,\n 1048576.0,\n 786432.0,\n 0.0,\n 0.0,\n 0.0,\n 0.0,\n 1048576.0,\n 0.0,\n 0.0,\n 0.0,\n 0.0,\n 524288.0,\n 0.0,\n 0.0,\n 0.0,\n 0.0,\n 1048576.0,\n 0.0,\n 0.0,\n 0.0,\n 1048576.0,\n 0.0,\n 0.0,\n 0.0,\n 0.0,\n 0.0,\n 0.0,\n 0.0,\n 786432.0,\n 0.0,\n 0.0,\n 0.0,\n 0.0,\n 0.0,\n 0.0,\n 0.0,\n 786432.0,\n 0.0,\n 0.0,\n 0.0,\n 0.0,\n 1048576.0,\n 0.0,\n 0.0,\n 0.0,\n 0.0,\n 0.0,\n 0.0,\n 0.0,\n 0.0,\n 0.0,\n 0.0,\n 0.0,\n 1048576.0,\n 0.0,\n 0.0,\n 0.0,\n 0.0,\n 0.0,\n 0.0,\n 0.0,\n 0.0,\n 786432.0,\n 0.0,\n 0.0,\n 0.0,\n 0.0,\n 0.0,\n 0.0,\n 1048576.0,\n 0.0,\n 0.0,\n 0.0,\n 0.0,\n 524288.0,\n 0.0,\n 0.0,\n 0.0,\n 0.0,\n 0.0,\n 0.0,\n 1048576.0,\n 0.0,\n 0.0,\n 0.0,\n 0.0,\n 0.0,\n 0.0,\n 0.0,\n 0.0,\n 0.0,\n 0.0,\n 1048576.0,\n 0.0,\n 0.0,\n 1048576.0,\n 0.0,\n 1048576.0,\n 786432.0,\n 786432.0,\n 0.0,\n 0.0,\n 786432.0,\n 0.0,\n 0.0,\n 0.0,\n 1048576.0,\n 0.0,\n 0.0,\n 0.0,\n 0.0,\n 23855104.0,\n 0.0,\n 0.0,\n 1048576.0,\n 0.0,\n 1048576.0,\n 0.0,\n 1048576.0,\n 0.0,\n 1048576.0,\n 786432.0,\n 0.0,\n 0.0,\n 0.0,\n 0.0,\n 0.0,\n 0.0,\n 0.0,\n 0.0,\n 0.0,\n 0.0,\n 0.0,\n 0.0,\n 0.0,\n 0.0,\n 0.0,\n 0.0,\n 0.0,\n 0.0,\n 0.0,\n 0.0,\n 0.0,\n 0.0,\n 0.0,\n 0.0,\n 786432.0,\n 0.0,\n 0.0,\n 0.0,\n 0.0,\n 0.0,\n 0.0,\n 0.0,\n 0.0,\n 0.0,\n 0.0,\n 0.0,\n 0.0,\n 0.0,\n 0.0,\n 0.0,\n 0.0,\n 0.0,\n 0.0,\n 0.0,\n 0.0,\n 0.0,\n 0.0,\n 0.0,\n 0.0,\n 0.0,\n 0.0,\n 0.0,\n 0.0,\n 0.0,\n 0.0,\n 0.0,\n 0.0,\n 0.0,\n 0.0,\n 0.0,\n 0.0,\n 0.0,\n 0.0,\n 0.0,\n 0.0,\n 0.0,\n 0.0,\n 0.0,\n 0.0,\n 786432.0,\n 0.0,\n 0.0,\n 0.0,\n 0.0,\n 0.0,\n 0.0,\n 0.0,\n 0.0,\n 0.0,\n 0.0,\n 0.0,\n 0.0,\n 0.0,\n 0.0,\n 0.0,\n 0.0,\n 0.0,\n 0.0,\n 0.0,\n 0.0,\n 0.0,\n 0.0,\n 0.0,\n 0.0,\n 0.0,\n 0.0,\n 0.0,\n 0.0,\n 0.0,\n 0.0,\n 0.0,\n 0.0,\n 0.0,\n 0.0,\n 0.0,\n 0.0,\n 0.0,\n 0.0,\n 0.0,\n 0.0,\n 0.0,\n 0.0,\n 0.0,\n 0.0,\n 0.0,\n 0.0,\n 0.0,\n 0.0,\n 0.0,\n 0.0,\n 0.0,\n 1048576.0,\n 0.0,\n 0.0,\n 0.0,\n 0.0,\n 1048576.0,\n 0.0,\n 0.0,\n 0.0,\n 1048576.0,\n 0.0,\n 0.0,\n 0.0,\n 0.0,\n 0.0,\n 0.0,\n 0.0,\n 0.0,\n 0.0,\n 786432.0,\n 0.0,\n 0.0,\n 0.0,\n 0.0,\n 1048576.0,\n 0.0,\n 0.0,\n 0.0,\n 0.0,\n 0.0,\n 0.0,\n 0.0,\n 1048576.0,\n 0.0,\n 0.0,\n 0.0,\n 0.0,\n 0.0,\n 0.0,\n 0.0,\n 1048576.0,\n 0.0,\n 0.0,\n 0.0,\n 0.0,\n 0.0,\n 786432.0,\n 0.0,\n 0.0,\n 0.0,\n 0.0,\n 0.0,\n 0.0,\n 0.0,\n 0.0,\n 0.0,\n 0.0,\n 0.0,\n 1048576.0,\n 0.0,\n 0.0,\n 0.0,\n 0.0,\n 0.0,\n 0.0,\n 0.0,\n 0.0,\n 0.0,\n 0.0,\n 0.0,\n 0.0,\n 0.0,\n 0.0,\n 0.0,\n 0.0,\n 0.0,\n 0.0,\n 1048576.0,\n 0.0,\n 786432.0,\n 0.0,\n 1048576.0,\n 0.0,\n 1048576.0,\n 0.0,\n 786432.0,\n 0.0,\n 1310720.0,\n 0.0,\n 1048576.0,\n 0.0,\n 786432.0,\n 0.0,\n 1048576.0,\n 0.0,\n 1048576.0,\n 0.0,\n 1048576.0,\n 0.0,\n 1048576.0,\n 0.0,\n 1048576.0,\n 0.0,\n 786432.0,\n 0.0,\n 1048576.0,\n 0.0,\n 0.0,\n 0.0,\n 0.0,\n 0.0,\n 0.0,\n 0.0,\n 0.0,\n 0.0,\n 0.0,\n 0.0,\n 0.0,\n 0.0,\n 0.0,\n 0.0,\n 0.0,\n 0.0,\n 0.0,\n 0.0,\n 0.0,\n 0.0,\n 0.0,\n 0.0,\n 0.0,\n 0.0,\n 0.0,\n 0.0,\n 0.0,\n 0.0,\n 0.0,\n 0.0,\n 0.0,\n 0.0,\n 0.0,\n 0.0,\n 0.0,\n 0.0,\n 0.0,\n 0.0,\n 0.0,\n 0.0,\n 0.0,\n 0.0,\n 0.0,\n 0.0,\n 0.0,\n 0.0,\n 0.0,\n 0.0,\n 0.0,\n 0.0,\n 0.0,\n 0.0,\n 0.0,\n 0.0,\n 0.0,\n 0.0,\n 0.0,\n 786432.0,\n 0.0,\n 0.0,\n 0.0,\n 786432.0,\n 0.0,\n 1310720.0,\n 0.0,\n 0.0,\n 0.0,\n 0.0,\n 0.0,\n 0.0,\n 0.0,\n 0.0,\n 0.0,\n 0.0,\n 0.0,\n 0.0,\n 0.0,\n 0.0,\n 0.0,\n 0.0,\n 0.0,\n 0.0,\n 0.0,\n 0.0,\n 0.0,\n 0.0,\n 0.0,\n 0.0,\n 0.0,\n 0.0,\n 0.0,\n 0.0,\n 0.0,\n 0.0,\n 1048576.0,\n 0.0,\n 1310720.0,\n 0.0,\n 786432.0,\n 0.0,\n 786432.0,\n 0.0,\n 1048576.0,\n 0.0,\n 1048576.0,\n 0.0,\n 0.0,\n 0.0,\n 0.0,\n 0.0,\n 0.0,\n 0.0,\n 0.0,\n 0.0,\n 0.0,\n 0.0,\n 0.0,\n 1310720.0,\n 0.0,\n 0.0,\n 0.0,\n 0.0,\n 1048576.0,\n 0.0,\n 0.0,\n 0.0,\n 9961472.0,\n 0.0,\n 0.0,\n 0.0,\n 0.0,\n 0.0,\n 0.0,\n 0.0,\n 1048576.0,\n 0.0,\n 0.0,\n 0.0,\n 1310720.0,\n 0.0,\n 0.0,\n 0.0,\n 0.0,\n 0.0,\n 1048576.0,\n 0.0,\n 0.0,\n 7864320.0,\n 0.0,\n 0.0,\n 0.0,\n 0.0,\n 0.0,\n 0.0,\n 0.0,\n 0.0,\n 0.0,\n 0.0,\n 0.0,\n 0.0,\n 0.0,\n 0.0,\n 0.0,\n 0.0,\n 0.0,\n 0.0,\n 0.0,\n 0.0,\n 0.0,\n 0.0,\n 0.0,\n 0.0,\n 0.0,\n 0.0,\n 0.0,\n 0.0,\n 0.0,\n 0.0,\n 0.0,\n 0.0,\n 0.0,\n 0.0,\n 0.0,\n 0.0,\n 0.0,\n 0.0,\n 0.0,\n 0.0,\n 0.0,\n 0.0,\n 0.0,\n 0.0,\n 0.0,\n 0.0,\n 0.0,\n 0.0,\n 0.0,\n 0.0,\n 0.0,\n 0.0,\n 786432.0,\n 0.0,\n 1310720.0,\n 0.0,\n 1048576.0,\n 0.0,\n 786432.0,\n 0.0,\n 1310720.0,\n 0.0,\n 524288.0,\n 0.0,\n 1048576.0,\n 0.0,\n 1048576.0,\n 0.0,\n 1048576.0,\n 0.0,\n 1048576.0,\n 0.0,\n 0.0,\n 0.0,\n 0.0,\n 0.0,\n 0.0,\n 0.0,\n 0.0,\n 0.0,\n 0.0,\n 0.0,\n 0.0,\n 0.0,\n 0.0,\n 0.0,\n 0.0,\n 0.0,\n 0.0,\n 0.0,\n 0.0,\n 0.0,\n 0.0,\n 0.0,\n 0.0,\n 0.0,\n 0.0,\n 0.0,\n 0.0,\n 0.0,\n 0.0,\n 0.0,\n 0.0,\n 0.0,\n 0.0,\n 0.0,\n 0.0,\n 0.0,\n 0.0,\n 0.0,\n 0.0,\n 0.0,\n 0.0,\n 0.0,\n 0.0,\n 0.0,\n 0.0,\n 0.0,\n 0.0,\n 0.0,\n 0.0,\n 0.0,\n 0.0,\n 0.0,\n 0.0,\n 0.0,\n 0.0,\n 0.0,\n 0.0,\n 0.0,\n 0.0,\n 0.0,\n 0.0,\n 0.0,\n 0.0,\n 0.0,\n 0.0,\n 0.0,\n 0.0,\n 0.0,\n 0.0,\n 0.0,\n 0.0,\n 0.0,\n 0.0,\n 0.0,\n 0.0,\n 0.0,\n 0.0,\n 0.0,\n 0.0,\n 0.0,\n 0.0,\n 1048576.0,\n 0.0,\n 1048576.0,\n 0.0,\n 1048576.0,\n 0.0,\n 1048576.0,\n 0.0,\n 786432.0,\n 0.0,\n 1310720.0,\n 0.0,\n 1048576.0,\n 0.0,\n 524288.0,\n 0.0,\n 1048576.0,\n 0.0,\n 1310720.0,\n 0.0,\n 0.0,\n 0.0,\n 0.0,\n 0.0,\n 0.0,\n 0.0,\n 0.0,\n 0.0,\n 0.0,\n 0.0,\n 0.0,\n 0.0,\n 0.0,\n 0.0,\n 0.0,\n 0.0,\n 0.0,\n 0.0,\n 0.0,\n 0.0,\n 0.0,\n 0.0,\n 0.0,\n 0.0,\n 0.0,\n 0.0,\n 0.0,\n 0.0,\n 0.0,\n 0.0,\n 0.0,\n 0.0,\n 0.0,\n 0.0,\n 0.0,\n 0.0,\n 0.0,\n 786432.0,\n 0.0,\n 1310720.0,\n 0.0,\n 786432.0,\n 0.0,\n 1048576.0,\n 0.0,\n 1048576.0,\n 0.0,\n 1048576.0,\n 0.0,\n 1048576.0,\n 0.0,\n 786432.0,\n 0.0,\n 1310720.0,\n 0.0,\n 786432.0,\n 0.0,\n 1048576.0,\n 0.0,\n 1048576.0,\n 0.0,\n 0.0,\n 0.0,\n 0.0,\n 0.0,\n 0.0,\n 0.0,\n 0.0,\n 0.0,\n 0.0,\n 0.0,\n 0.0,\n 1048576.0,\n 0.0,\n 1048576.0,\n 0.0,\n 0.0,\n 0.0,\n 0.0,\n 0.0,\n 0.0,\n 0.0,\n 0.0,\n 0.0,\n 0.0,\n 0.0,\n 0.0,\n 0.0,\n 0.0,\n 0.0,\n 0.0,\n 0.0,\n 0.0,\n 0.0,\n 0.0,\n 786432.0,\n 0.0,\n 0.0,\n 1048576.0,\n 0.0,\n 1048576.0,\n 0.0,\n 1048576.0,\n 0.0,\n ...]"
     },
     "execution_count": 211,
     "metadata": {},
     "output_type": "execute_result"
    }
   ],
   "source": [
    "tiempo1"
   ],
   "metadata": {
    "collapsed": false
   }
  },
  {
   "cell_type": "code",
   "execution_count": 212,
   "outputs": [
    {
     "data": {
      "text/plain": "      Runtime de factorial\n0                1048576.0\n1                      0.0\n2                      0.0\n3                      0.0\n4                      0.0\n...                    ...\n4995                   0.0\n4996                   0.0\n4997                   0.0\n4998              786432.0\n4999                   0.0\n\n[5000 rows x 1 columns]",
      "text/html": "<div>\n<style scoped>\n    .dataframe tbody tr th:only-of-type {\n        vertical-align: middle;\n    }\n\n    .dataframe tbody tr th {\n        vertical-align: top;\n    }\n\n    .dataframe thead th {\n        text-align: right;\n    }\n</style>\n<table border=\"1\" class=\"dataframe\">\n  <thead>\n    <tr style=\"text-align: right;\">\n      <th></th>\n      <th>Runtime de factorial</th>\n    </tr>\n  </thead>\n  <tbody>\n    <tr>\n      <th>0</th>\n      <td>1048576.0</td>\n    </tr>\n    <tr>\n      <th>1</th>\n      <td>0.0</td>\n    </tr>\n    <tr>\n      <th>2</th>\n      <td>0.0</td>\n    </tr>\n    <tr>\n      <th>3</th>\n      <td>0.0</td>\n    </tr>\n    <tr>\n      <th>4</th>\n      <td>0.0</td>\n    </tr>\n    <tr>\n      <th>...</th>\n      <td>...</td>\n    </tr>\n    <tr>\n      <th>4995</th>\n      <td>0.0</td>\n    </tr>\n    <tr>\n      <th>4996</th>\n      <td>0.0</td>\n    </tr>\n    <tr>\n      <th>4997</th>\n      <td>0.0</td>\n    </tr>\n    <tr>\n      <th>4998</th>\n      <td>786432.0</td>\n    </tr>\n    <tr>\n      <th>4999</th>\n      <td>0.0</td>\n    </tr>\n  </tbody>\n</table>\n<p>5000 rows × 1 columns</p>\n</div>"
     },
     "execution_count": 212,
     "metadata": {},
     "output_type": "execute_result"
    }
   ],
   "source": [
    "df2 = pd.DataFrame(zip(tiempo1))\n",
    "df2.columns = ['Runtime de factorial']\n",
    "df2"
   ],
   "metadata": {
    "collapsed": false
   }
  },
  {
   "cell_type": "code",
   "execution_count": 213,
   "outputs": [
    {
     "data": {
      "text/plain": "<AxesSubplot: >"
     },
     "execution_count": 213,
     "metadata": {},
     "output_type": "execute_result"
    },
    {
     "data": {
      "text/plain": "<Figure size 640x480 with 1 Axes>",
      "image/png": "[encoded data removed]"
     },
     "metadata": {},
     "output_type": "display_data"
    }
   ],
   "source": [
    "df2.plot()"
   ],
   "metadata": {
    "collapsed": false
   }
  },
  {
   "cell_type": "markdown",
   "source": [
    "4. Tomando en cuenta la funcion factorial que se repite de manera recursiva por una cantidad de n datos, la complejidad se la puede establecer como O(n), esta funcion lo que hace es aplicar el factorial a un numero ingresado e ir guardando en un arreglo. Esto no divide ni hace conquer por lo que solo se repite n veces y me da la complejidad final de O(n)."
   ],
   "metadata": {
    "collapsed": false
   }
  },
  {
   "cell_type": "code",
   "execution_count": 228,
   "outputs": [],
   "source": [
    "#Ahora se aplica memoization para tener ya guardado el valor de factorial en el arreglo\n",
    "memoria = {}\n",
    "def factorialConMemoria(n):\n",
    "    if n in memoria:\n",
    "        return memoria[n]\n",
    "    elif n == 0:\n",
    "        return 1\n",
    "    else:\n",
    "        dato = factorialConMemoria(n-1) * n\n",
    "        memoria[n] = dato\n",
    "        return dato"
   ],
   "metadata": {
    "collapsed": false
   }
  },
  {
   "cell_type": "code",
   "execution_count": 229,
   "outputs": [
    {
     "data": {
      "text/plain": "3628800"
     },
     "execution_count": 229,
     "metadata": {},
     "output_type": "execute_result"
    }
   ],
   "source": [
    "factorialConMemoria(10)"
   ],
   "metadata": {
    "collapsed": false
   }
  },
  {
   "cell_type": "code",
   "execution_count": 230,
   "outputs": [],
   "source": [
    "#Se calcula el tiempo que le toma correr a la funcion de memoization que la llame factorialConMemoria\n",
    "memoria = {}\n",
    "@runtime\n",
    "def factorialConMemoria(n):\n",
    "    if n in memoria:\n",
    "        return memoria[n]\n",
    "    elif n == 0:\n",
    "        return 1\n",
    "    else:\n",
    "        dato = factorialConMemoria(n-1) * n\n",
    "        memoria[n] = dato\n",
    "        return dato\n",
    "tiempo2 = []\n",
    "for i in range (0, 5000):\n",
    "    resultado = factorialConMemoria(i)\n",
    "    tiempo2.append(resultado)"
   ],
   "metadata": {
    "collapsed": false
   }
  },
  {
   "cell_type": "code",
   "execution_count": 231,
   "outputs": [
    {
     "data": {
      "text/plain": "[1835008.0,\n 0.0,\n 1310720.0,\n 0.0,\n 1048576.0,\n 0.0,\n 0.0,\n 0.0,\n 0.0,\n 0.0,\n 0.0,\n 0.0,\n 0.0,\n 0.0,\n 0.0,\n 0.0,\n 0.0,\n 1048576.0,\n 0.0,\n 0.0,\n 0.0,\n 0.0,\n 0.0,\n 0.0,\n 0.0,\n 0.0,\n 0.0,\n 0.0,\n 0.0,\n 0.0,\n 0.0,\n 0.0,\n 0.0,\n 0.0,\n 0.0,\n 0.0,\n 1048576.0,\n 0.0,\n 0.0,\n 0.0,\n 1048576.0,\n 0.0,\n 1048576.0,\n 0.0,\n 1048576.0,\n 0.0,\n 0.0,\n 0.0,\n 1310720.0,\n 0.0,\n 786432.0,\n 0.0,\n 1048576.0,\n 0.0,\n 0.0,\n 0.0,\n 786432.0,\n 0.0,\n 0.0,\n 0.0,\n 0.0,\n 0.0,\n 0.0,\n 0.0,\n 0.0,\n 0.0,\n 0.0,\n 0.0,\n 0.0,\n 0.0,\n 0.0,\n 0.0,\n 0.0,\n 0.0,\n 1048576.0,\n 0.0,\n 1048576.0,\n 0.0,\n 0.0,\n 0.0,\n 0.0,\n 0.0,\n 1048576.0,\n 0.0,\n 1048576.0,\n 0.0,\n 0.0,\n 0.0,\n 0.0,\n 0.0,\n 0.0,\n 0.0,\n 0.0,\n 0.0,\n 0.0,\n 1048576.0,\n 0.0,\n 0.0,\n 0.0,\n 0.0,\n 0.0,\n 0.0,\n 0.0,\n 0.0,\n 0.0,\n 0.0,\n 0.0,\n 0.0,\n 0.0,\n 0.0,\n 0.0,\n 0.0,\n 0.0,\n 0.0,\n 0.0,\n 0.0,\n 786432.0,\n 0.0,\n 0.0,\n 0.0,\n 1048576.0,\n 0.0,\n 0.0,\n 0.0,\n 0.0,\n 0.0,\n 0.0,\n 0.0,\n 0.0,\n 1310720.0,\n 0.0,\n 786432.0,\n 0.0,\n 1048576.0,\n 0.0,\n 0.0,\n 0.0,\n 0.0,\n 0.0,\n 0.0,\n 0.0,\n 0.0,\n 0.0,\n 0.0,\n 0.0,\n 0.0,\n 0.0,\n 0.0,\n 0.0,\n 0.0,\n 0.0,\n 0.0,\n 0.0,\n 0.0,\n 0.0,\n 0.0,\n 0.0,\n 0.0,\n 0.0,\n 0.0,\n 0.0,\n 0.0,\n 0.0,\n 0.0,\n 0.0,\n 0.0,\n 0.0,\n 0.0,\n 1048576.0,\n 0.0,\n 786432.0,\n 0.0,\n 1310720.0,\n 0.0,\n 0.0,\n 0.0,\n 0.0,\n 0.0,\n 0.0,\n 0.0,\n 0.0,\n 0.0,\n 0.0,\n 0.0,\n 0.0,\n 0.0,\n 0.0,\n 0.0,\n 0.0,\n 0.0,\n 0.0,\n 0.0,\n 1310720.0,\n 0.0,\n 1048576.0,\n 0.0,\n 786432.0,\n 0.0,\n 0.0,\n 0.0,\n 0.0,\n 0.0,\n 1048576.0,\n 0.0,\n 0.0,\n 0.0,\n 0.0,\n 0.0,\n 0.0,\n 0.0,\n 0.0,\n 0.0,\n 0.0,\n 0.0,\n 0.0,\n 0.0,\n 0.0,\n 0.0,\n 0.0,\n 0.0,\n 0.0,\n 0.0,\n 0.0,\n 524288.0,\n 0.0,\n 1048576.0,\n 0.0,\n 1048576.0,\n 0.0,\n 0.0,\n 0.0,\n 0.0,\n 0.0,\n 0.0,\n 0.0,\n 0.0,\n 0.0,\n 0.0,\n 0.0,\n 0.0,\n 0.0,\n 0.0,\n 0.0,\n 0.0,\n 0.0,\n 786432.0,\n 0.0,\n 0.0,\n 0.0,\n 0.0,\n 0.0,\n 0.0,\n 0.0,\n 0.0,\n 0.0,\n 0.0,\n 0.0,\n 786432.0,\n 0.0,\n 0.0,\n 0.0,\n 0.0,\n 0.0,\n 0.0,\n 0.0,\n 0.0,\n 0.0,\n 0.0,\n 0.0,\n 0.0,\n 0.0,\n 0.0,\n 0.0,\n 0.0,\n 0.0,\n 0.0,\n 0.0,\n 0.0,\n 0.0,\n 0.0,\n 0.0,\n 0.0,\n 0.0,\n 0.0,\n 0.0,\n 0.0,\n 1048576.0,\n 0.0,\n 0.0,\n 0.0,\n 0.0,\n 0.0,\n 0.0,\n 0.0,\n 0.0,\n 0.0,\n 0.0,\n 0.0,\n 0.0,\n 0.0,\n 0.0,\n 0.0,\n 0.0,\n 0.0,\n 0.0,\n 0.0,\n 0.0,\n 0.0,\n 0.0,\n 0.0,\n 0.0,\n 0.0,\n 0.0,\n 0.0,\n 0.0,\n 0.0,\n 0.0,\n 0.0,\n 0.0,\n 0.0,\n 0.0,\n 0.0,\n 0.0,\n 0.0,\n 0.0,\n 0.0,\n 0.0,\n 0.0,\n 0.0,\n 0.0,\n 0.0,\n 0.0,\n 0.0,\n 0.0,\n 0.0,\n 0.0,\n 0.0,\n 0.0,\n 0.0,\n 0.0,\n 0.0,\n 0.0,\n 0.0,\n 0.0,\n 0.0,\n 0.0,\n 0.0,\n 0.0,\n 0.0,\n 0.0,\n 0.0,\n 0.0,\n 0.0,\n 0.0,\n 0.0,\n 0.0,\n 0.0,\n 0.0,\n 1048576.0,\n 0.0,\n 0.0,\n 0.0,\n 0.0,\n 1048576.0,\n 0.0,\n 0.0,\n 0.0,\n 0.0,\n 1048576.0,\n 0.0,\n 0.0,\n 1048576.0,\n 0.0,\n 0.0,\n 0.0,\n 1048576.0,\n 0.0,\n 0.0,\n 0.0,\n 0.0,\n 0.0,\n 0.0,\n 0.0,\n 0.0,\n 1048576.0,\n 0.0,\n 0.0,\n 0.0,\n 0.0,\n 0.0,\n 0.0,\n 0.0,\n 0.0,\n 0.0,\n 0.0,\n 0.0,\n 0.0,\n 0.0,\n 0.0,\n 0.0,\n 0.0,\n 0.0,\n 0.0,\n 0.0,\n 0.0,\n 0.0,\n 0.0,\n 0.0,\n 0.0,\n 0.0,\n 0.0,\n 0.0,\n 0.0,\n 0.0,\n 0.0,\n 0.0,\n 0.0,\n 0.0,\n 0.0,\n 0.0,\n 0.0,\n 0.0,\n 0.0,\n 0.0,\n 0.0,\n 0.0,\n 0.0,\n 0.0,\n 0.0,\n 0.0,\n 0.0,\n 0.0,\n 0.0,\n 0.0,\n 0.0,\n 0.0,\n 0.0,\n 0.0,\n 0.0,\n 0.0,\n 0.0,\n 0.0,\n 0.0,\n 0.0,\n 0.0,\n 0.0,\n 0.0,\n 0.0,\n 0.0,\n 0.0,\n 0.0,\n 0.0,\n 0.0,\n 0.0,\n 0.0,\n 0.0,\n 1048576.0,\n 0.0,\n 0.0,\n 0.0,\n 0.0,\n 0.0,\n 0.0,\n 786432.0,\n 0.0,\n 1310720.0,\n 0.0,\n 786432.0,\n 0.0,\n 786432.0,\n 0.0,\n 1048576.0,\n 0.0,\n 1310720.0,\n 0.0,\n 786432.0,\n 0.0,\n 1048576.0,\n 0.0,\n 1048576.0,\n 0.0,\n 0.0,\n 0.0,\n 1048576.0,\n 0.0,\n 786432.0,\n 0.0,\n 0.0,\n 0.0,\n 0.0,\n 0.0,\n 0.0,\n 0.0,\n 0.0,\n 0.0,\n 0.0,\n 0.0,\n 0.0,\n 0.0,\n 0.0,\n 0.0,\n 0.0,\n 0.0,\n 0.0,\n 0.0,\n 0.0,\n 0.0,\n 0.0,\n 0.0,\n 0.0,\n 0.0,\n 0.0,\n 0.0,\n 0.0,\n 0.0,\n 0.0,\n 0.0,\n 0.0,\n 0.0,\n 0.0,\n 0.0,\n 0.0,\n 1048576.0,\n 0.0,\n 1048576.0,\n 0.0,\n 0.0,\n 0.0,\n 0.0,\n 0.0,\n 0.0,\n 0.0,\n 0.0,\n 0.0,\n 0.0,\n 0.0,\n 0.0,\n 0.0,\n 0.0,\n 0.0,\n 0.0,\n 0.0,\n 0.0,\n 0.0,\n 0.0,\n 0.0,\n 0.0,\n 0.0,\n 786432.0,\n 0.0,\n 0.0,\n 0.0,\n 0.0,\n 0.0,\n 0.0,\n 0.0,\n 0.0,\n 0.0,\n 0.0,\n 0.0,\n 0.0,\n 0.0,\n 0.0,\n 0.0,\n 0.0,\n 0.0,\n 0.0,\n 0.0,\n 0.0,\n 0.0,\n 0.0,\n 0.0,\n 0.0,\n 0.0,\n 0.0,\n 0.0,\n 0.0,\n 0.0,\n 0.0,\n 0.0,\n 0.0,\n 0.0,\n 0.0,\n 0.0,\n 0.0,\n 0.0,\n 1048576.0,\n 0.0,\n 1048576.0,\n 0.0,\n 0.0,\n 0.0,\n 0.0,\n 0.0,\n 0.0,\n 0.0,\n 0.0,\n 0.0,\n 0.0,\n 0.0,\n 0.0,\n 1048576.0,\n 0.0,\n 1048576.0,\n 0.0,\n 1048576.0,\n 0.0,\n 1048576.0,\n 0.0,\n 786432.0,\n 0.0,\n 0.0,\n 0.0,\n 0.0,\n 0.0,\n 0.0,\n 0.0,\n 0.0,\n 1310720.0,\n 0.0,\n 786432.0,\n 0.0,\n 1048576.0,\n 0.0,\n 0.0,\n 0.0,\n 0.0,\n 0.0,\n 0.0,\n 0.0,\n 0.0,\n 0.0,\n 0.0,\n 0.0,\n 0.0,\n 0.0,\n 0.0,\n 0.0,\n 0.0,\n 0.0,\n 0.0,\n 0.0,\n 0.0,\n 0.0,\n 0.0,\n 1048576.0,\n 0.0,\n 0.0,\n 0.0,\n 0.0,\n 0.0,\n 0.0,\n 0.0,\n 0.0,\n 0.0,\n 0.0,\n 0.0,\n 0.0,\n 0.0,\n 0.0,\n 0.0,\n 0.0,\n 0.0,\n 0.0,\n 0.0,\n 0.0,\n 0.0,\n 0.0,\n 0.0,\n 0.0,\n 0.0,\n 0.0,\n 0.0,\n 0.0,\n 0.0,\n 0.0,\n 0.0,\n 0.0,\n 0.0,\n 0.0,\n 0.0,\n 0.0,\n 0.0,\n 0.0,\n 0.0,\n 0.0,\n 0.0,\n 0.0,\n 0.0,\n 0.0,\n 0.0,\n 0.0,\n 0.0,\n 0.0,\n 0.0,\n 0.0,\n 0.0,\n 0.0,\n 0.0,\n 0.0,\n 0.0,\n 0.0,\n 0.0,\n 0.0,\n 0.0,\n 0.0,\n 0.0,\n 0.0,\n 0.0,\n 0.0,\n 0.0,\n 0.0,\n 0.0,\n 0.0,\n 1048576.0,\n 0.0,\n 1048576.0,\n 0.0,\n 1048576.0,\n 0.0,\n 786432.0,\n 0.0,\n 786432.0,\n 0.0,\n 0.0,\n 0.0,\n 0.0,\n 0.0,\n 0.0,\n 0.0,\n 0.0,\n 0.0,\n 0.0,\n 0.0,\n 0.0,\n 0.0,\n 0.0,\n 0.0,\n 0.0,\n 0.0,\n 0.0,\n 0.0,\n 0.0,\n 0.0,\n 0.0,\n 0.0,\n 0.0,\n 0.0,\n 0.0,\n 0.0,\n 0.0,\n 1310720.0,\n 0.0,\n 0.0,\n 0.0,\n 1048576.0,\n 0.0,\n 1048576.0,\n 0.0,\n 1048576.0,\n 0.0,\n 786432.0,\n 0.0,\n 0.0,\n 0.0,\n 0.0,\n 0.0,\n 0.0,\n 0.0,\n 0.0,\n 0.0,\n 0.0,\n 0.0,\n 0.0,\n 0.0,\n 0.0,\n 0.0,\n 0.0,\n 0.0,\n 0.0,\n 786432.0,\n 0.0,\n 1048576.0,\n 0.0,\n 0.0,\n 0.0,\n 0.0,\n 0.0,\n 0.0,\n 0.0,\n 1048576.0,\n 0.0,\n 0.0,\n 0.0,\n 786432.0,\n 0.0,\n 1048576.0,\n 0.0,\n 1048576.0,\n 0.0,\n 1048576.0,\n 0.0,\n 786432.0,\n 0.0,\n 1048576.0,\n 0.0,\n 1048576.0,\n 0.0,\n 1048576.0,\n 0.0,\n 786432.0,\n 0.0,\n 1310720.0,\n 0.0,\n 1048576.0,\n 0.0,\n 786432.0,\n 0.0,\n 0.0,\n 0.0,\n 0.0,\n 0.0,\n 0.0,\n 0.0,\n 0.0,\n 0.0,\n 1048576.0,\n 0.0,\n 786432.0,\n 0.0,\n 0.0,\n 0.0,\n 0.0,\n 0.0,\n 0.0,\n 0.0,\n 0.0,\n 0.0,\n 0.0,\n 0.0,\n 0.0,\n 0.0,\n 0.0,\n 0.0,\n 0.0,\n 0.0,\n 0.0,\n 786432.0,\n 0.0,\n 1048576.0,\n 0.0,\n 1310720.0,\n 0.0,\n 786432.0,\n 0.0,\n 0.0,\n 0.0,\n 0.0,\n 0.0,\n 0.0,\n 0.0,\n 0.0,\n 0.0,\n 0.0,\n 0.0,\n 0.0,\n 0.0,\n 0.0,\n 0.0,\n 0.0,\n 0.0,\n 0.0,\n 0.0,\n 0.0,\n 0.0,\n 0.0,\n 0.0,\n 0.0,\n 0.0,\n 0.0,\n 0.0,\n 0.0,\n 0.0,\n 0.0,\n 0.0,\n 0.0,\n 0.0,\n 0.0,\n 0.0,\n 0.0,\n 0.0,\n 0.0,\n 0.0,\n 0.0,\n 0.0,\n 0.0,\n 0.0,\n 0.0,\n 0.0,\n 1048576.0,\n 0.0,\n 1048576.0,\n 0.0,\n 786432.0,\n 0.0,\n 1310720.0,\n 0.0,\n 1048576.0,\n 0.0,\n 0.0,\n 0.0,\n 0.0,\n 0.0,\n 0.0,\n 0.0,\n 0.0,\n 0.0,\n 0.0,\n 0.0,\n 0.0,\n 0.0,\n 0.0,\n 0.0,\n 0.0,\n 0.0,\n 0.0,\n 0.0,\n 0.0,\n 0.0,\n 0.0,\n 0.0,\n 0.0,\n 1310720.0,\n 0.0,\n 786432.0,\n 0.0,\n 0.0,\n 0.0,\n 1048576.0,\n 0.0,\n 786432.0,\n 0.0,\n 1048576.0,\n 0.0,\n 786432.0,\n 0.0,\n 1310720.0,\n 0.0,\n 0.0,\n 0.0,\n 0.0,\n 0.0,\n 0.0,\n 0.0,\n 0.0,\n 0.0,\n 0.0,\n 0.0,\n 0.0,\n 0.0,\n 0.0,\n 0.0,\n 1048576.0,\n 0.0,\n 1048576.0,\n 0.0,\n 1048576.0,\n 0.0,\n 1048576.0,\n 0.0,\n 786432.0,\n 0.0,\n 1310720.0,\n 0.0,\n 0.0,\n 0.0,\n 0.0,\n 0.0,\n 0.0,\n 0.0,\n 0.0,\n 0.0,\n 0.0,\n 0.0,\n 0.0,\n 1048576.0,\n 0.0,\n 0.0,\n 0.0,\n 0.0,\n 0.0,\n 1835008.0,\n 0.0,\n 0.0,\n 0.0,\n 0.0,\n 0.0,\n 0.0,\n 0.0,\n 0.0,\n ...]"
     },
     "execution_count": 231,
     "metadata": {},
     "output_type": "execute_result"
    }
   ],
   "source": [
    "tiempo2"
   ],
   "metadata": {
    "collapsed": false
   }
  },
  {
   "cell_type": "code",
   "execution_count": 232,
   "outputs": [
    {
     "data": {
      "text/plain": "      Runtime de factorial con memoria\n0                            1835008.0\n1                                  0.0\n2                            1310720.0\n3                                  0.0\n4                            1048576.0\n...                                ...\n4995                         1048576.0\n4996                               0.0\n4997                          786432.0\n4998                               0.0\n4999                         1310720.0\n\n[5000 rows x 1 columns]",
      "text/html": "<div>\n<style scoped>\n    .dataframe tbody tr th:only-of-type {\n        vertical-align: middle;\n    }\n\n    .dataframe tbody tr th {\n        vertical-align: top;\n    }\n\n    .dataframe thead th {\n        text-align: right;\n    }\n</style>\n<table border=\"1\" class=\"dataframe\">\n  <thead>\n    <tr style=\"text-align: right;\">\n      <th></th>\n      <th>Runtime de factorial con memoria</th>\n    </tr>\n  </thead>\n  <tbody>\n    <tr>\n      <th>0</th>\n      <td>1835008.0</td>\n    </tr>\n    <tr>\n      <th>1</th>\n      <td>0.0</td>\n    </tr>\n    <tr>\n      <th>2</th>\n      <td>1310720.0</td>\n    </tr>\n    <tr>\n      <th>3</th>\n      <td>0.0</td>\n    </tr>\n    <tr>\n      <th>4</th>\n      <td>1048576.0</td>\n    </tr>\n    <tr>\n      <th>...</th>\n      <td>...</td>\n    </tr>\n    <tr>\n      <th>4995</th>\n      <td>1048576.0</td>\n    </tr>\n    <tr>\n      <th>4996</th>\n      <td>0.0</td>\n    </tr>\n    <tr>\n      <th>4997</th>\n      <td>786432.0</td>\n    </tr>\n    <tr>\n      <th>4998</th>\n      <td>0.0</td>\n    </tr>\n    <tr>\n      <th>4999</th>\n      <td>1310720.0</td>\n    </tr>\n  </tbody>\n</table>\n<p>5000 rows × 1 columns</p>\n</div>"
     },
     "execution_count": 232,
     "metadata": {},
     "output_type": "execute_result"
    }
   ],
   "source": [
    "df3 = pd.DataFrame(zip(tiempo2))\n",
    "df3.columns = ['Runtime de factorial con memoria']\n",
    "df3"
   ],
   "metadata": {
    "collapsed": false
   }
  },
  {
   "cell_type": "code",
   "execution_count": 233,
   "outputs": [
    {
     "data": {
      "text/plain": "<AxesSubplot: >"
     },
     "execution_count": 233,
     "metadata": {},
     "output_type": "execute_result"
    },
    {
     "data": {
      "text/plain": "<Figure size 640x480 with 1 Axes>",
      "image/png": "[encoded data removed]"
     },
     "metadata": {},
     "output_type": "display_data"
    }
   ],
   "source": [
    "df3.plot()"
   ],
   "metadata": {
    "collapsed": false
   }
  },
  {
   "cell_type": "markdown",
   "source": [
    "7. Para esta funcion que utiliza memoization lo que hace es igual hacer la funcion de factorial de un numero, pero ahora lo que tambien hace es ir comparando que ese valor no este ya guardado en el arreglo, si es asi, entonces se sigue al siguiente dato, esto permite optimizar el proceso de factorial de un dato, por lo que al ir comparando ambos datos es una comparacion de datos de manera constante, por lo que se puede decir que la complejidad es de O(1), al tener una comparacion de datos que ya se encuentran guardados en el arreglo."
   ],
   "metadata": {
    "collapsed": false
   }
  },
  {
   "cell_type": "markdown",
   "source": [
    "8. La primera implementacion con respecto a la segunda implementacion se comparan al ver que la una tiene que correr el proceso de factorial para cada dato ingresado, pero en cambio en la segunda implementacion va revisando que no este hecho el factorial de un numero para hacer el factorial de ese numero, sino, sigue con el siguiente hasta tener el factorial de todos los datos que se encuentren ingresados. La primera funcion me da una complejidad de O(n), mientras que la que usa memoization tiene una complejidad de O(1), sin embargo, al tener la funcion de memoization, esto si me ayuda a optimizar ya que me permite seguir con los siguientes datos los cuales no he calculado el factorial y mi tiempo seria mas rapido que ir calculando el factorial de cada numero que tengo o no guardado."
   ],
   "metadata": {
    "collapsed": false
   }
  },
  {
   "cell_type": "code",
   "execution_count": null,
   "outputs": [],
   "source": [],
   "metadata": {
    "collapsed": false
   }
  }
 ],
 "metadata": {
  "kernelspec": {
   "display_name": "Python 3",
   "language": "python",
   "name": "python3"
  },
  "language_info": {
   "codemirror_mode": {
    "name": "ipython",
    "version": 2
   },
   "file_extension": ".py",
   "mimetype": "text/x-python",
   "name": "python",
   "nbconvert_exporter": "python",
   "pygments_lexer": "ipython2",
   "version": "2.7.6"
  }
 },
 "nbformat": 4,
 "nbformat_minor": 0
}
