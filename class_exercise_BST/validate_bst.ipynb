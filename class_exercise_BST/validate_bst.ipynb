{
 "cells": [
  {
   "cell_type": "code",
   "execution_count": 1,
   "outputs": [
    {
     "name": "stdout",
     "output_type": "stream",
     "text": [
      "This binary tree is a BST.\n"
     ]
    }
   ],
   "source": [
    "import sys\n",
    "\n",
    "class Tree:\n",
    "  def __init__(self, data):\n",
    "    self.data = data\n",
    "    self.left = None\n",
    "    self.right = None\n",
    "\n",
    "def isBST(node, mini, maxi):\n",
    "  # Base case. An empty tree is a BST.\n",
    "  if node == None:\n",
    "    return 1\n",
    "  # Checking if a key is outside the permitted range.\n",
    "  if node.data <= mini:\n",
    "    return 0\n",
    "  if node.data >= maxi:\n",
    "    return 0\n",
    "  # Sending in updates ranges to the right and left subtree\n",
    "  return isBST(node.right, node.data, maxi) and isBST(node.left, mini, node.data)\n",
    "\n",
    "# Creating a BST\n",
    "root = Tree(6)\n",
    "root.left = Tree(3)\n",
    "root.right = Tree(9)\n",
    "root.left.left = Tree(1)\n",
    "root.left.right = Tree(5)\n",
    "root.right.left = Tree(7)\n",
    "root.right.right = Tree(11)\n",
    "# Passing in the word size of the machine\n",
    "mini = -sys.maxsize - 1\n",
    "maxi = sys.maxsize\n",
    "if(isBST(root, mini, maxi)):\n",
    "  print(\"This binary tree is a BST.\")\n",
    "else:\n",
    "  print(\"This binary tree is not a BST.\")"
   ],
   "metadata": {
    "collapsed": false
   }
  }
 ],
 "metadata": {
  "kernelspec": {
   "display_name": "Python 3",
   "language": "python",
   "name": "python3"
  },
  "language_info": {
   "codemirror_mode": {
    "name": "ipython",
    "version": 2
   },
   "file_extension": ".py",
   "mimetype": "text/x-python",
   "name": "python",
   "nbconvert_exporter": "python",
   "pygments_lexer": "ipython2",
   "version": "2.7.6"
  }
 },
 "nbformat": 4,
 "nbformat_minor": 0
}
