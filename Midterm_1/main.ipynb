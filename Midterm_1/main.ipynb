{
 "cells": [
  {
   "cell_type": "markdown",
   "source": [
    "Paula Campaña Donoso (00215572)\n",
    "Midterm 1"
   ],
   "metadata": {
    "collapsed": false
   }
  },
  {
   "cell_type": "code",
   "execution_count": 34,
   "outputs": [],
   "source": [
    "import time\n",
    "import pandas as pd\n",
    "import numpy as np\n",
    "import matplotlib.pyplot as plt\n",
    "\n",
    "def count_digits(n):\n",
    "    #necesito ir contando los valores, por eso empiezo en 0\n",
    "    contar = 0\n",
    "    #utilizo un for loop en donde me diga que los valores en el string ingresados del entero n, se van contando\n",
    "    for val in str(n):\n",
    "    #Debo transformar a string para que me vaya contando cada elemento de n\n",
    "        contar += 1\n",
    "    return contar\n",
    "def get_array_digit_count(X):\n",
    "    #con la funcion get_array_digit_count obtengo la cantidad que tiene cada valor ingresado de n\n",
    "    Y = []\n",
    "    #Y es un arreglo que empieza siendo vacio\n",
    "    #utilizo un for loop en donde me dice que los valores en el rango de la longitud de x se incluyen en el arreglo de Y\n",
    "    for val in range(len(X)):\n",
    "        Y[val] = count_digits(X[val])\n",
    "        #En Y[val] lo que hago es igualar a la funcion count_digits que me cuenta la cantidad de elementos en el valor ingresado y me retorna la el arreglo de Y con el valor de cantidad de cada elemento registrado\n",
    "    return Y"
   ],
   "metadata": {
    "collapsed": false
   }
  },
  {
   "cell_type": "code",
   "execution_count": 35,
   "outputs": [
    {
     "data": {
      "text/plain": "3"
     },
     "execution_count": 35,
     "metadata": {},
     "output_type": "execute_result"
    }
   ],
   "source": [
    "count_digits(234)"
   ],
   "metadata": {
    "collapsed": false
   }
  },
  {
   "cell_type": "code",
   "execution_count": 36,
   "outputs": [
    {
     "ename": "IndexError",
     "evalue": "list assignment index out of range",
     "output_type": "error",
     "traceback": [
      "\u001B[0;31m---------------------------------------------------------------------------\u001B[0m",
      "\u001B[0;31mIndexError\u001B[0m                                Traceback (most recent call last)",
      "Input \u001B[0;32mIn [36]\u001B[0m, in \u001B[0;36m<cell line: 1>\u001B[0;34m()\u001B[0m\n\u001B[0;32m----> 1\u001B[0m \u001B[43mget_array_digit_count\u001B[49m\u001B[43m(\u001B[49m\u001B[43m[\u001B[49m\u001B[38;5;241;43m1\u001B[39;49m\u001B[43m,\u001B[49m\u001B[43m \u001B[49m\u001B[38;5;241;43m234\u001B[39;49m\u001B[43m,\u001B[49m\u001B[43m \u001B[49m\u001B[38;5;241;43m34\u001B[39;49m\u001B[43m]\u001B[49m\u001B[43m)\u001B[49m\n",
      "Input \u001B[0;32mIn [34]\u001B[0m, in \u001B[0;36mget_array_digit_count\u001B[0;34m(X)\u001B[0m\n\u001B[1;32m     19\u001B[0m \u001B[38;5;28;01mfor\u001B[39;00m val \u001B[38;5;129;01min\u001B[39;00m \u001B[38;5;28mrange\u001B[39m(\u001B[38;5;28mlen\u001B[39m(X)):\n\u001B[1;32m     20\u001B[0m     index \u001B[38;5;241m=\u001B[39m \u001B[38;5;241m0\u001B[39m\n\u001B[0;32m---> 21\u001B[0m     \u001B[43mY\u001B[49m\u001B[43m[\u001B[49m\u001B[43mindex\u001B[49m\u001B[43m]\u001B[49m \u001B[38;5;241m=\u001B[39m count_digits(X[val])\n\u001B[1;32m     22\u001B[0m     \u001B[38;5;66;03m#En Y[val] lo que hago \u001B[39;00m\n\u001B[1;32m     23\u001B[0m \u001B[38;5;28;01mreturn\u001B[39;00m Y\n",
      "\u001B[0;31mIndexError\u001B[0m: list assignment index out of range"
     ]
    }
   ],
   "source": [
    "get_array_digit_count([1, 234, 34])"
   ],
   "metadata": {
    "collapsed": false
   }
  },
  {
   "cell_type": "code",
   "execution_count": 37,
   "outputs": [],
   "source": [
    "import time\n",
    "import pandas as pd\n",
    "import numpy as np\n",
    "import matplotlib.pyplot as plt\n",
    "\n",
    "def check_peaks(M):\n",
    "    for i in range(len(M)-2):\n",
    "        if(M[i]<M[i+1] and M[i+1]>M[i+2]):\n",
    "            return True\n",
    "    return False"
   ],
   "metadata": {
    "collapsed": false
   }
  },
  {
   "cell_type": "code",
   "execution_count": null,
   "outputs": [],
   "source": [],
   "metadata": {
    "collapsed": false
   }
  }
 ],
 "metadata": {
  "kernelspec": {
   "display_name": "Python 3",
   "language": "python",
   "name": "python3"
  },
  "language_info": {
   "codemirror_mode": {
    "name": "ipython",
    "version": 2
   },
   "file_extension": ".py",
   "mimetype": "text/x-python",
   "name": "python",
   "nbconvert_exporter": "python",
   "pygments_lexer": "ipython2",
   "version": "2.7.6"
  }
 },
 "nbformat": 4,
 "nbformat_minor": 0
}
