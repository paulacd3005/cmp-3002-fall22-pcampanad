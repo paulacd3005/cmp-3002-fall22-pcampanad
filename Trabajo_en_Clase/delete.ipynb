{
 "cells": [
  {
   "cell_type": "code",
   "execution_count": null,
   "outputs": [],
   "source": [
    "class Node:\n",
    "    \"\"\"\n",
    "    Implementation of a node\n",
    "    \"\"\"\n",
    "def __init__(self, val = None):\n",
    "    self.val = val\n",
    "    self.next_node = None\n",
    "\n",
    "def set_next_node(self, next_node):\n",
    "    self.next_node = next_node\n",
    "class Singly_linked_list:\n",
    "    \"\"\"\n",
    "    Implementation of a singly linked list\n",
    "    \"\"\"\n",
    "    def __init__(self, head_node = None):\n",
    "        self.head_node = head_node\n",
    "\n",
    "    def list_traversed(self):\n",
    "        node = self.head_node\n",
    "        while node:\n",
    "            print(node.val)\n",
    "            node = node.next_node\n",
    "\n",
    "    def delete_node(self,value):\n",
    "        node = self.head_node\n",
    "        prev = None\n",
    "        while node and node.val != value:\n",
    "            prev = node\n",
    "            node = node.next_node\n",
    "        if node:\n",
    "            prev.set_next_node(node.next_node)\n",
    "        else:\n",
    "            print (\"EL valor no existe\")\n",
    "\n",
    "m1 = Node(\"Jan\")\n",
    "m2 = Node(\"Feb\")\n",
    "m3 = Node(\"March\")\n",
    "m4 = Node (\"Dec\")\n",
    "\n",
    "#Link m1 to m2\n",
    "m1.set_next_node(m2)\n",
    "#Link m2 to m3\n",
    "m2.set_next_node(m3)\n",
    "#Link m3 to m4\n",
    "m3.set_next_node(m4)\n",
    "\n",
    "list1 = Singly_linked_list(m1)\n",
    "\n",
    "if __name__ == '__main__':\n",
    "    list1.list_traversed()\n",
    "    list1.delete_node(\"June\")\n",
    "    list1.list_traversed()"
   ],
   "metadata": {
    "collapsed": false,
    "pycharm": {
     "name": "#%%\n"
    }
   }
  },
  {
   "cell_type": "code",
   "execution_count": null,
   "outputs": [],
   "source": [
    "def delete_node(self, value):\n",
    "    prev = self.head_node\n",
    "    node = prev.next_node\n",
    "\n",
    "    if prev.val == value:\n",
    "        self.head_node = self.head_node.next_node\n",
    "        prev.set_next_node = None\n",
    "    else:\n",
    "        while node.val != value:\n",
    "            prev = node\n",
    "            node = node.next_node\n",
    "\n",
    "            if node == None:\n",
    "                break\n",
    "        if node:\n",
    "            prev.set_next_node(node.next_node)\n",
    "            node.next_node = None\n",
    "        else:\n",
    "            print(\"Valor no se encuentra\")"
   ],
   "metadata": {
    "collapsed": false,
    "pycharm": {
     "name": "#%%\n"
    }
   }
  }
 ],
 "metadata": {
  "kernelspec": {
   "display_name": "Python 3",
   "language": "python",
   "name": "python3"
  },
  "language_info": {
   "codemirror_mode": {
    "name": "ipython",
    "version": 2
   },
   "file_extension": ".py",
   "mimetype": "text/x-python",
   "name": "python",
   "nbconvert_exporter": "python",
   "pygments_lexer": "ipython2",
   "version": "2.7.6"
  }
 },
 "nbformat": 4,
 "nbformat_minor": 0
}